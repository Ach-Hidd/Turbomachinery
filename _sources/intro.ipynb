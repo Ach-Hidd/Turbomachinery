{
 "cells": [
  {
   "cell_type": "markdown",
   "id": "1d77e5ed",
   "metadata": {},
   "source": [
    "# Introduction\n",
    "\n",
    "Dear Students,\n",
    "\n",
    "Welcome to the Mechanical Engineering Turbomachinery Course 2021/2022.\n",
    "\n",
    "We recommend to follow the course on the scheduled time slots. During these moments, it is possible to ask questions via the chat function. \n",
    "\n",
    "This course will also be followed by quite a group from industry. Unfortunately, you cannot meet them in person.\n",
    "\n",
    "There will be four homework assignments: **power cycles**, **blade design**, **combustion design** and **material aspects**. They are obligatory for the course. In case you pass the exam (minimum grade for exam only = 5.5), the grades for the homework assignments will be included in the final grade (60% exam, 40% homework assignments).\n",
    "\n",
    "If you have any questions upfront, please contact me: s.a.klein@tudelft.nl.   \n",
    "\n",
    "Regards,\n",
    "\n",
    "Sikke Klein <br>\n",
    "Rene Pecnik <br>\n",
    "Vera Popovich <br>\n",
    "Luuk Altenburg"
   ]
  }
 ],
 "metadata": {
  "jupytext": {
   "text_representation": {
    "extension": ".md",
    "format_name": "myst",
    "format_version": 0.13,
    "jupytext_version": "1.10.3"
   }
  },
  "kernelspec": {
   "display_name": "Python 3 (ipykernel)",
   "language": "python",
   "name": "python3"
  },
  "language_info": {
   "codemirror_mode": {
    "name": "ipython",
    "version": 3
   },
   "file_extension": ".py",
   "mimetype": "text/x-python",
   "name": "python",
   "nbconvert_exporter": "python",
   "pygments_lexer": "ipython3",
   "version": "3.7.12"
  },
  "source_map": [
   12
  ]
 },
 "nbformat": 4,
 "nbformat_minor": 5
}