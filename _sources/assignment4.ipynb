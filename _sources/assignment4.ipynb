{
 "cells": [
  {
   "cell_type": "markdown",
   "metadata": {
    "tags": []
   },
   "source": [
    "# Assignment 4: Mechanical and Materials Aspects\n",
    "\n",
    "* Assignment per student\n",
    "* Hand in by xxxxxx via v.popovich@tudelft.nl\n",
    "\n",
    "Pure Nickel with grain size of 100 µm was used for a turbine blade. Creep rupture\n",
    "data (see table below) was used to construct Larson-Miller plot (see figure) for this\n",
    "alloy, assuming $C$=20.\n",
    "\n"
   ]
  },
  {
   "cell_type": "markdown",
   "metadata": {
    "tags": []
   },
   "source": [
    "## Tasks\n",
    "\n",
    "**a.**  Which quantity or quantities can be predicted by LM parameter?<br>\n",
    "\n",
    "**b.**  Which information does the Larson-Miller concept provide about the creep mechanism?<br>\n",
    "\n",
    "**c.**  Estimate the expected life for a sample tested at 650 $^oC$ with a stress of 240 MPa, and at 870 $^oC$ with a stress of 35 MPa. Compare these values with actual test results of 32000 and 9000 hr, respectively and explain the difference.<br>\n",
    "\n",
    "**d.**  What is the max. operational temperature such that failure should not occur in 5000 hr at stress levels of 140 and 200 MPa, respectively.<br>\n",
    "\n",
    "**e.**  Theoretically what can be done to improve the lifetime ($t_{R}$) of this material? Provide at least two improvements.<br>\n",
    "\n",
    "\n"
   ]
  },
  {
   "cell_type": "code",
   "execution_count": null,
   "metadata": {},
   "outputs": [],
   "source": []
  }
 ],
 "metadata": {
  "celltoolbar": "Tags",
  "kernelspec": {
   "display_name": "Python 3 (ipykernel)",
   "language": "python",
   "name": "python3"
  },
  "language_info": {
   "codemirror_mode": {
    "name": "ipython",
    "version": 3
   },
   "file_extension": ".py",
   "mimetype": "text/x-python",
   "name": "python",
   "nbconvert_exporter": "python",
   "pygments_lexer": "ipython3",
   "version": "3.9.6"
  },
  "widgets": {
   "application/vnd.jupyter.widget-state+json": {
    "state": {},
    "version_major": 2,
    "version_minor": 0
   }
  }
 },
 "nbformat": 4,
 "nbformat_minor": 4
}
