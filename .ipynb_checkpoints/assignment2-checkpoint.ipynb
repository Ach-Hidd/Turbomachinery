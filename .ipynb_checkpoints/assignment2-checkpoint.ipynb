{
 "cells": [
  {
   "cell_type": "markdown",
   "metadata": {
    "tags": []
   },
   "source": [
    "# Assignment 2: Blade Design\n",
    "\n",
    "## Tasks\n",
    "**An axial turbine stage with the following costumer specifications has to be designed:**\n",
    "\n",
    "* A power output of 4 MW.\n",
    "* The expanding mass flow [$R_{gas}$=287 J/(kgK) and isentropic exponent $\\gamma$=1.334] is $\\dot{m}$=40 kg/s.\n",
    "* Total conditions at the inlet of the turbine: $p_{01}$=2.42 bar and $T_{01}$=800 K.\n",
    "* Shaft speed 12000 rpm\n",
    "* The hub radius at the inlet of the stator vane ($R_{i}$ in figure) is 30 cm.\n",
    "* Assume that the axial velocity across the whole stage is constant and $c_{x}$=150 m/s.\n",
    "\n",
    "__Perform the following tasks:__\n",
    "\n",
    "1. Design the blade at mid-span: calculate velocities and blade angles.\n",
    "2. Blade height at positions 1, 2 and 3.\n",
    "3. Area of the passage at positions 1, 2 and 3.\n",
    "4. Static pressure ratio across the stage.\n",
    "5. Three-dimensional blade shape using free vortex design\n",
    "6. Plot the radial distribution of the loading factor, flow coefficient and degree of reaction.\n",
    "7. Discuss possible drawbacks of this design: Comment on degree of reaction and highest Mach (relative and absolute)\n",
    "    \n",
    "**Bonus point:** approximate 3D design (several assumption need to be made,\n",
    "such as blade thickness, number of stator vanes and rotor blades, etc.)\n",
    "Deliver a report: Around 4 pages. Group of 2 students."
   ]
  },
  {
   "cell_type": "markdown",
   "metadata": {},
   "source": [
    "## Code\n",
    "**Function turbine blades:**"
   ]
  },
  {
   "cell_type": "code",
   "execution_count": 1,
   "metadata": {
    "tags": [
     "hide-input",
     "thebe-init"
    ]
   },
   "outputs": [],
   "source": [
    "def turbine_blades(phi, psi, R):\n",
    "    \n",
    "    c_x = 1.0\n",
    "    U = c_x/phi\n",
    "    \n",
    "    A = np.array([[1, 1], [1, -1]])\n",
    "    b = np.array([(1-2*R)/phi, (psi+1)/phi])\n",
    "    x = np.linalg.solve(A, b)\n",
    "    \n",
    "    alfa2 = np.arctan(x[0])*(180/np.pi)\n",
    "    beta2 = np.arctan(x[0] - U)*(180/np.pi)\n",
    "    \n",
    "    alfa3 = np.arctan(x[1] + U)*(180/np.pi)\n",
    "    beta2 = np.arctan(x[1])*(180/np.pi)\n",
    "    \n",
    "    # Bezier 2nd order for stator and rotor blades\n",
    "    t = np.linspace(0, 1, 21)\n",
    "    F = np.column_stack(((1-t)**2, 2*t*(1-t),  t**2))\n",
    "    \n",
    "    # Profile thickness\n",
    "    prof_th = 1.\n",
    "    \n",
    "    # Camber line stator\n",
    "    stat = np.array([[U + x[1], 0.], [0, -1], [-x[0], -2.]])\n",
    "    bez_stator = F.dot(stat)     \n",
    "    \n",
    "    # Stator profile pressure side (PS)\n",
    "    statorPS = np.array([[U + x[1], 0.], [-prof_th/2, -1.], [-x[0], -2.]])\n",
    "    bez_statorPS = F.dot(statorPS)\n",
    "    \n",
    "    # Stator profile suction side (SS)\n",
    "    statorSS = np.array([[U + x[1], 0.], [prof_th/2., -1.], [-x[0], -2.]])\n",
    "    bez_statorSS = F.dot(statorSS)\n",
    "    \n",
    "    stator = np.vstack((bez_statorSS, bez_statorPS[::-1]))\n",
    "    \n",
    "    # Camber line rotor\n",
    "    rot = np.array([[0., -3.], [-x[0] + U , -4.], [-x[0] + U - x[1], -5.]])\n",
    "    bez_stator = F.dot(rot)     \n",
    "    \n",
    "    # Rotor profile pressure side (PS)\n",
    "    rotorPS = np.array([[0., -3.], [-x[0] + U - prof_th/2., -4.], [-x[0] + U - x[1], -5.]])\n",
    "    bez_rotorPS = F.dot(rotorPS)\n",
    "    \n",
    "    # Rotor profile suction side (SS)\n",
    "    rotorSS = np.array([[0., -3.], [-x[0] + U + prof_th/2., -4.], [-x[0] + U - x[1], -5.]])\n",
    "    bez_rotorSS = F.dot(rotorSS)\n",
    "    \n",
    "    rotor = np.vstack((bez_rotorSS, bez_rotorPS[::-1]))\n",
    "    \n",
    "    return stator, rotor, x, U"
   ]
  },
  {
   "cell_type": "markdown",
   "metadata": {},
   "source": [
    "**Main:**"
   ]
  },
  {
   "cell_type": "code",
   "execution_count": 2,
   "metadata": {
    "tags": [
     "hide-input"
    ]
   },
   "outputs": [
    {
     "data": {
      "application/vnd.jupyter.widget-view+json": {
       "model_id": "e785b78bd0064c2b9e7b1201d5f9b319",
       "version_major": 2,
       "version_minor": 0
      },
      "text/plain": [
       "VBox(children=(HBox(children=(FloatSlider(value=0.4, description='$\\\\phi$', max=2.0, step=0.01), FloatSlider(v…"
      ]
     },
     "metadata": {},
     "output_type": "display_data"
    },
    {
     "data": {
      "application/vnd.jupyter.widget-view+json": {
       "model_id": "23c0e516ab454bec86aeca649f1c43e8",
       "version_major": 2,
       "version_minor": 0
      },
      "text/plain": [
       "Output()"
      ]
     },
     "metadata": {},
     "output_type": "display_data"
    }
   ],
   "source": [
    "import ipywidgets as widgets\n",
    "from ipywidgets import interact, interactive, interact_manual, interactive_output, Label\n",
    "import numpy as np\n",
    "from matplotlib import pyplot as plt\n",
    "\n",
    "# Define initial parameters\n",
    "init_phi = 0.4 # Flow coefficient\n",
    "init_psi = 1 # Loading factor\n",
    "init_R = 0.5 # Degree of reaction\n",
    "init_pitch_stat = 3\n",
    "init_pitch_rot = 3\n",
    "\n",
    "# Define plot parameters\n",
    "scale_fig1 = 1.5  \n",
    "fontsize = 16\n",
    "\n",
    "def turbine_gui(phi, psi, R, pitch_stat, pitch_rot, show_velocity=True): \n",
    "    \n",
    "    \n",
    "    offset_y = 0 if show_velocity == True else 0.25\n",
    "\n",
    "    # Initialize figure \n",
    "    fig1, ax1 = plt.subplots(figsize=(scale_fig1*6.4, scale_fig1*4.8))\n",
    "\n",
    "    # Set parameters left subplot\n",
    "    ax1.set_xlabel('x', fontsize=fontsize)\n",
    "    ax1.set_ylabel('y', fontsize=fontsize)\n",
    "    ax1.set_xlim(-10, 10)\n",
    "    ax1.set_ylim(-7, 2)\n",
    "    \n",
    "    [stator, rotor, x, U] = turbine_blades(phi, psi, R)\n",
    "    \n",
    "    for i in range(-10, 11):\n",
    "        \n",
    "        ax1.plot(stator[:,0] + i*pitch_stat, stator[:,1] + 0.25 - offset_y, lw=3, c='r')\n",
    "        ax1.plot(rotor[:,0] + i*pitch_rot, rotor[:,1] - 0.25 + offset_y, lw=3, c='b')\n",
    "    \n",
    "    if show_velocity == True:\n",
    "        \n",
    "        offset = 0\n",
    "        head_length=0.3\n",
    "        head_width=0.3\n",
    "        # Draw velocity profiles\n",
    "        # Stator inlet\n",
    "        ax1.arrow(offset, 1.5, offset-x[1]-U, -1, color='r', head_length=head_length, head_width=head_width, length_includes_head=True)  # C1\n",
    "\n",
    "        # Stator outlet / rotor inlet\n",
    "        ax1.arrow(offset, -2, -x[0], -1, color='r', head_length=head_length, head_width=head_width, length_includes_head=True, label='absolute velocity')  # C2\n",
    "        ax1.arrow(offset, -2, -x[0]+U, -1, color='b', head_length=head_length, head_width=head_width, length_includes_head=True, label='relative velocity')  # W2\n",
    "        ax1.arrow(offset-x[0]+U, -3, -U, 0, color='g', head_length=head_length, head_width=head_width, length_includes_head=True, label='rotational velocity')  # U\n",
    "\n",
    "        # Rotor outlet\n",
    "        ax1.arrow(offset, -5.5, -x[1]-U, -1, color='r', head_length=head_length, head_width=head_width, length_includes_head=True)  # C3\n",
    "        ax1.arrow(offset, -5.5, -x[1], -1, color='b', head_length=head_length, head_width=head_width, length_includes_head=True)  # W3\n",
    "        ax1.arrow(offset-x[1], -6.5, -U, 0, color='g', head_length=head_length, head_width=head_width, length_includes_head=True)  # U\n",
    "        \n",
    "        ax1.legend()\n",
    "        \n",
    "    # Update plot\n",
    "    \n",
    "    plt.show()\n",
    "\n",
    "# Define interactive widgets\n",
    "a = widgets.FloatSlider(value=init_phi, min=0, max=2, step=0.01, description=r'$\\phi$')\n",
    "b = widgets.FloatSlider(value=init_psi, min=0, max=5, step=0.01, description=r'$\\psi$')\n",
    "c = widgets.FloatSlider(value=init_R, min=0, max=2, step=0.01, description=r'$R$')\n",
    "d = widgets.FloatSlider(value=init_pitch_stat, min=0, max=10, step=0.01, description='Pitch stator')\n",
    "e = widgets.FloatSlider(value=init_pitch_rot, min=0, max=10, step=0.01, description='Pitch rotor')\n",
    "f = widgets.Checkbox(True,  description='Show velocity triangles')\n",
    "\n",
    "    \n",
    "# Layout of widgets\n",
    "ui0 = widgets.HBox([a, d])\n",
    "ui1 = widgets.HBox([b, e])\n",
    "ui2 = widgets.HBox([c, f])\n",
    "\n",
    "ui = widgets.VBox([ui0, ui1, ui2])\n",
    "\n",
    "# Activate interactivity with plot!\n",
    "out = widgets.interactive_output(turbine_gui, {'phi': a, 'psi': b, 'R': c, 'pitch_stat': d, 'pitch_rot': e, 'show_velocity': f})\n",
    "display(ui, out)\n"
   ]
  },
  {
   "cell_type": "markdown",
   "metadata": {},
   "source": [
    "**Function 3D blade design:**"
   ]
  },
  {
   "cell_type": "code",
   "execution_count": 13,
   "metadata": {
    "tags": [
     "hide-input"
    ]
   },
   "outputs": [
    {
     "data": {
      "application/vnd.jupyter.widget-view+json": {
       "model_id": "afba05f3ad204489b73b9d9fee9359e8",
       "version_major": 2,
       "version_minor": 0
      },
      "text/plain": [
       "VBox(children=(VBox(children=(Figure(camera=PerspectiveCamera(fov=45.0, position=(0.0, 0.0, 2.0), projectionMa…"
      ]
     },
     "metadata": {},
     "output_type": "display_data"
    }
   ],
   "source": [
    "import numpy as np\n",
    "import matplotlib.pyplot as plt\n",
    "from matplotlib import cm\n",
    "import ipyvolume as ipv\n",
    "\n",
    "nb = 20\n",
    "phi = 0.1\n",
    "LF = np.linspace(2., 1., nb)\n",
    "DR = np.linspace(0., 0.5 ,nb)\n",
    "\n",
    "[sta1, rot1, A, U] = turbine_blades(phi, LF[0], DR[0])\n",
    "\n",
    "n = sta1.shape[0]\n",
    "\n",
    "Xs = sta1[:,0]\n",
    "Ys = sta1[:,1]\n",
    "Zs = 10*np.ones((n, 1))\n",
    "\n",
    "Xr = rot1[:,0]\n",
    "Yr = rot1[:,1]\n",
    "Zr = 10*np.ones((n, 1))\n",
    "\n",
    "\n",
    "fig = ipv.figure()\n",
    "ipv.style.use(\"dark\") # looks better\n",
    "\n",
    "for i in range(1,nb):\n",
    "    \n",
    "    [sta1, rot1, A, U] = turbine_blades(phi, LF[i], DR[i]);\n",
    "\n",
    "    Xs = np.column_stack((Xs, sta1[:,0]))\n",
    "    Ys = np.column_stack((Ys, sta1[:,1]))\n",
    "    Zs = np.column_stack((Zs, 10 + 10*(i-1)/9*np.ones((n, 1))))\n",
    "    \n",
    "    Xr = np.column_stack((Xr, rot1[:,0]))\n",
    "    Yr = np.column_stack((Yr, rot1[:,1]))\n",
    "    Zr = np.column_stack((Zr, 10 + 10*(i-1)/9*np.ones((n, 1))))\n",
    "\n",
    "    \n",
    "stator_surf_list = []\n",
    "stator_frame_list = []\n",
    "rotor_surf_list = []\n",
    "rotor_frame_list = []\n",
    "\n",
    "for j in range(0, nb):\n",
    "    \n",
    "    th = 20*(j-1)*np.pi/180;\n",
    "\n",
    "    Xn = Xs*np.cos(th) - Zs*np.sin(th)\n",
    "    Zn = Xs*np.sin(th) + Zs*np.cos(th)\n",
    "    stator_surf = ipv.plot_surface(Xn, Ys*5, Zn, color=\"red\")\n",
    "    stator_frame = ipv.plot_wireframe(Xn,  Ys*5, Zn, color=\"red\")\n",
    "    stator_surf_list.append(stator_surf)\n",
    "    stator_frame_list.append(stator_frame)\n",
    "    \n",
    "    Xn = Xr*np.cos(th) - Zr*np.sin(th)\n",
    "    Zn = Xr*np.sin(th) + Zr*np.cos(th)\n",
    "    rotor_surf = ipv.plot_surface(Xn, Yr*5, Zn, color=\"blue\")\n",
    "    rotor_frame = ipv.plot_wireframe(Xn, Yr*5, Zn, color=\"blue\")\n",
    "    rotor_surf_list.append(rotor_surf)\n",
    "    rotor_frame_list.append(rotor_frame)\n",
    "\n",
    "from ipywidgets import FloatSlider, ColorPicker, VBox, jslink\n",
    "color_stator = ColorPicker(value='red', description='Color stator')\n",
    "color_rotor = ColorPicker(value='blue', description='Color rotor')\n",
    "\n",
    "for k in range(0, nb):\n",
    "    jslink((stator_surf_list[k], 'color'), (color_stator, 'value'))\n",
    "    jslink((stator_frame_list[k], 'color'), (color_stator, 'value'))\n",
    "    jslink((rotor_surf_list[k], 'color'), (color_rotor, 'value'))\n",
    "    jslink((rotor_frame_list[k], 'color'), (color_rotor, 'value'))\n",
    "\n",
    "VBox([ipv.gcc(), size, color_stator, color_rotor])\n"
   ]
  },
  {
   "cell_type": "code",
   "execution_count": null,
   "metadata": {},
   "outputs": [],
   "source": []
  }
 ],
 "metadata": {
  "celltoolbar": "Tags",
  "kernelspec": {
   "display_name": "Python 3",
   "language": "python",
   "name": "python3"
  },
  "language_info": {
   "codemirror_mode": {
    "name": "ipython",
    "version": 3
   },
   "file_extension": ".py",
   "mimetype": "text/x-python",
   "name": "python",
   "nbconvert_exporter": "python",
   "pygments_lexer": "ipython3",
   "version": "3.7.4"
  },
  "widgets": {
   "application/vnd.jupyter.widget-state+json": {
    "state": {
     "03b8175029d84bc692773888cfb01e49": {
      "model_module": "@jupyter-widgets/controls",
      "model_module_version": "1.5.0",
      "model_name": "FloatSliderModel",
      "state": {
       "description": "Pitch stator",
       "layout": "IPY_MODEL_a328288dd38549bb9c8a5f5edb5160b3",
       "max": 10,
       "step": 0.01,
       "style": "IPY_MODEL_2db540dd9fca4940acce1e70aacdeebf",
       "value": 3
      }
     },
     "104541742efd47abba08c21d016382d0": {
      "model_module": "@jupyter-widgets/base",
      "model_module_version": "1.2.0",
      "model_name": "LayoutModel",
      "state": {}
     },
     "113064a84c8041239870ad9265fd01a6": {
      "model_module": "@jupyter-widgets/controls",
      "model_module_version": "1.5.0",
      "model_name": "DescriptionStyleModel",
      "state": {
       "description_width": ""
      }
     },
     "2164370c58eb45eab12ef5f71d7e329b": {
      "model_module": "@jupyter-widgets/base",
      "model_module_version": "1.2.0",
      "model_name": "LayoutModel",
      "state": {}
     },
     "2211e72a50314102a05e51e518c34d14": {
      "model_module": "@jupyter-widgets/base",
      "model_module_version": "1.2.0",
      "model_name": "LayoutModel",
      "state": {}
     },
     "286bd7e278ef4ff8a8030ab81365f887": {
      "model_module": "@jupyter-widgets/controls",
      "model_module_version": "1.5.0",
      "model_name": "FloatSliderModel",
      "state": {
       "description": "Pitch rotor",
       "layout": "IPY_MODEL_cc1d62d5ed9a49ff9413eb2e3f6970ae",
       "max": 10,
       "step": 0.01,
       "style": "IPY_MODEL_7f8d177170cd4a318124a070fd448548",
       "value": 3
      }
     },
     "2db540dd9fca4940acce1e70aacdeebf": {
      "model_module": "@jupyter-widgets/controls",
      "model_module_version": "1.5.0",
      "model_name": "SliderStyleModel",
      "state": {
       "description_width": ""
      }
     },
     "2ff7ebc374414dc68e9e30a0467b8c4c": {
      "model_module": "@jupyter-widgets/controls",
      "model_module_version": "1.5.0",
      "model_name": "FloatSliderModel",
      "state": {
       "description": "$R$",
       "layout": "IPY_MODEL_c6ab7fe7ad894249bd2c0d050ac4cb94",
       "max": 2,
       "step": 0.01,
       "style": "IPY_MODEL_a1dee2797e634bbe8e65f3603e2871b4",
       "value": 0.5
      }
     },
     "3492ee368f454fc58336b5316edb12ea": {
      "model_module": "@jupyter-widgets/base",
      "model_module_version": "1.2.0",
      "model_name": "LayoutModel",
      "state": {}
     },
     "438217df4f6646c7a17af058da4b68e2": {
      "model_module": "@jupyter-widgets/controls",
      "model_module_version": "1.5.0",
      "model_name": "FloatSliderModel",
      "state": {
       "description": "$\\phi$",
       "layout": "IPY_MODEL_4ddd742f8c2147fba3a53062d2bcc553",
       "max": 2,
       "step": 0.01,
       "style": "IPY_MODEL_d750721473c042b5b7c5520c38209ecc",
       "value": 0.4
      }
     },
     "4ddd742f8c2147fba3a53062d2bcc553": {
      "model_module": "@jupyter-widgets/base",
      "model_module_version": "1.2.0",
      "model_name": "LayoutModel",
      "state": {}
     },
     "5e3336e311014ef19e30dac1f56890a4": {
      "model_module": "@jupyter-widgets/controls",
      "model_module_version": "1.5.0",
      "model_name": "HBoxModel",
      "state": {
       "children": [
        "IPY_MODEL_438217df4f6646c7a17af058da4b68e2",
        "IPY_MODEL_03b8175029d84bc692773888cfb01e49"
       ],
       "layout": "IPY_MODEL_951fc09c76d344e5ac5a743cb10fcaf7"
      }
     },
     "60cc48e4b1834c01bfe3052579f950f4": {
      "model_module": "@jupyter-widgets/base",
      "model_module_version": "1.2.0",
      "model_name": "LayoutModel",
      "state": {}
     },
     "63c92d3b4e84443c9c6afc9b1e8de748": {
      "model_module": "@jupyter-widgets/controls",
      "model_module_version": "1.5.0",
      "model_name": "HBoxModel",
      "state": {
       "children": [
        "IPY_MODEL_ce3505e7a83e4e5fb00671acf2b1b24b",
        "IPY_MODEL_286bd7e278ef4ff8a8030ab81365f887"
       ],
       "layout": "IPY_MODEL_2164370c58eb45eab12ef5f71d7e329b"
      }
     },
     "6f5bb390f2a04889bcd6e89d86934658": {
      "model_module": "@jupyter-widgets/controls",
      "model_module_version": "1.5.0",
      "model_name": "VBoxModel",
      "state": {
       "children": [
        "IPY_MODEL_5e3336e311014ef19e30dac1f56890a4",
        "IPY_MODEL_63c92d3b4e84443c9c6afc9b1e8de748",
        "IPY_MODEL_7ad25b6b29dd442396508eae64c01642"
       ],
       "layout": "IPY_MODEL_9408b9d9f30a4b09a8baed07311deb56"
      }
     },
     "7ad25b6b29dd442396508eae64c01642": {
      "model_module": "@jupyter-widgets/controls",
      "model_module_version": "1.5.0",
      "model_name": "HBoxModel",
      "state": {
       "children": [
        "IPY_MODEL_2ff7ebc374414dc68e9e30a0467b8c4c",
        "IPY_MODEL_d320300d2a6747bfa174e698665bd17d"
       ],
       "layout": "IPY_MODEL_60cc48e4b1834c01bfe3052579f950f4"
      }
     },
     "7f8d177170cd4a318124a070fd448548": {
      "model_module": "@jupyter-widgets/controls",
      "model_module_version": "1.5.0",
      "model_name": "SliderStyleModel",
      "state": {
       "description_width": ""
      }
     },
     "9408b9d9f30a4b09a8baed07311deb56": {
      "model_module": "@jupyter-widgets/base",
      "model_module_version": "1.2.0",
      "model_name": "LayoutModel",
      "state": {}
     },
     "951fc09c76d344e5ac5a743cb10fcaf7": {
      "model_module": "@jupyter-widgets/base",
      "model_module_version": "1.2.0",
      "model_name": "LayoutModel",
      "state": {}
     },
     "9f7dcb9764324faea08ebeec1a4465bb": {
      "model_module": "@jupyter-widgets/controls",
      "model_module_version": "1.5.0",
      "model_name": "SliderStyleModel",
      "state": {
       "description_width": ""
      }
     },
     "a1dee2797e634bbe8e65f3603e2871b4": {
      "model_module": "@jupyter-widgets/controls",
      "model_module_version": "1.5.0",
      "model_name": "SliderStyleModel",
      "state": {
       "description_width": ""
      }
     },
     "a328288dd38549bb9c8a5f5edb5160b3": {
      "model_module": "@jupyter-widgets/base",
      "model_module_version": "1.2.0",
      "model_name": "LayoutModel",
      "state": {}
     },
     "c6ab7fe7ad894249bd2c0d050ac4cb94": {
      "model_module": "@jupyter-widgets/base",
      "model_module_version": "1.2.0",
      "model_name": "LayoutModel",
      "state": {}
     },
     "cc1d62d5ed9a49ff9413eb2e3f6970ae": {
      "model_module": "@jupyter-widgets/base",
      "model_module_version": "1.2.0",
      "model_name": "LayoutModel",
      "state": {}
     },
     "ce3505e7a83e4e5fb00671acf2b1b24b": {
      "model_module": "@jupyter-widgets/controls",
      "model_module_version": "1.5.0",
      "model_name": "FloatSliderModel",
      "state": {
       "description": "$\\psi$",
       "layout": "IPY_MODEL_3492ee368f454fc58336b5316edb12ea",
       "max": 5,
       "step": 0.01,
       "style": "IPY_MODEL_9f7dcb9764324faea08ebeec1a4465bb",
       "value": 1
      }
     },
     "d320300d2a6747bfa174e698665bd17d": {
      "model_module": "@jupyter-widgets/controls",
      "model_module_version": "1.5.0",
      "model_name": "CheckboxModel",
      "state": {
       "description": "Show velocity triangles",
       "disabled": false,
       "layout": "IPY_MODEL_2211e72a50314102a05e51e518c34d14",
       "style": "IPY_MODEL_113064a84c8041239870ad9265fd01a6",
       "value": true
      }
     },
     "d750721473c042b5b7c5520c38209ecc": {
      "model_module": "@jupyter-widgets/controls",
      "model_module_version": "1.5.0",
      "model_name": "SliderStyleModel",
      "state": {
       "description_width": ""
      }
     },
     "eebf2950c7db46cd888789c008c80d9d": {
      "model_module": "@jupyter-widgets/output",
      "model_module_version": "1.0.0",
      "model_name": "OutputModel",
      "state": {
       "layout": "IPY_MODEL_104541742efd47abba08c21d016382d0",
       "outputs": [
        {
         "data": {
          "image/png": "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\n",
          "text/plain": "<Figure size 691.2x518.4 with 1 Axes>"
         },
         "metadata": {
          "needs_background": "light"
         },
         "output_type": "display_data"
        }
       ]
      }
     }
    },
    "version_major": 2,
    "version_minor": 0
   }
  }
 },
 "nbformat": 4,
 "nbformat_minor": 4
}
