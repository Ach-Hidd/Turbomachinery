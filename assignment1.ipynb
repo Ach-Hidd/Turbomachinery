{
 "cells": [
  {
   "cell_type": "markdown",
   "metadata": {
    "tags": []
   },
   "source": [
    "# Assignment 1: Power cycles\n",
    "\n",
    "\n",
    "A simple Brayton cycle consists of:\n",
    "* Compression\n",
    "* Heat addition\n",
    "* Expansion\n",
    "\n",
    "<!-- ![simple_brayton_cycle]() -->\n",
    "<img src=\"./images/simple_brayton_cycle.png\" alt=\"simple_brayton_cycle\" style=\"width: 600px;\"/>\n",
    "\n",
    "\n",
    "<!-- <br/><br/>\n",
    "\n",
    "There are ways to increase specific work and/or thermodynamic efficiency.\n",
    "For example:\n",
    "\n",
    "![three_type_cycles](./three_type_cycles.svg) -->\n"
   ]
  },
  {
   "cell_type": "markdown",
   "metadata": {},
   "source": [
    "## Tasks\n",
    "\n",
    "Form a team of two students and determine which cycle you have to implemenent with the following formula:\n",
    "\n",
    "$$N = \\textrm{modulo}(\\textrm{studentID1} + \\textrm{studentID2}, 4) + 1$$\n",
    "\n",
    "If $N$ is:<br>\n",
    "$\\textbf{1}~...$ Ideal gas: intercooler + recuperation<br>\n",
    "$\\textbf{2}~...$ Ideal gas: reheat + recuperation<br>\n",
    "$\\textbf{3}~...$ Real gas (use coolprop or refprop): intercooler + recuperation<br>\n",
    "$\\textbf{4}~...$ Real gas (use coolprop or refprop): reheat + recuperation<br>\n",
    "\n",
    "**Assumptions:**\n",
    "* For the intercooled or reheat cycle assume: \n",
    "  * that the two stages have equal pressure ratios\n",
    "  * that the temperature before the second stage is the same as before the first stage\n",
    "* No pressure losses in combustion chamber: $PR_{cc}=1.0$\n",
    "* For all compressors use a polytropic efficiency of $\\eta_{p,comp}= 0.85$\n",
    "* For all turbines use polytropic efficiency $\\eta_{p,turb} = 0.92$\n",
    "* For the calculations with ideal gas, assume that the isentropic exponent is constant\n",
    "\n",
    "**Implement your cycle in this Jupyter Notebook (or matlab) and discuss the following:**\n",
    "1. Compared to a conventional Brayton cycle with a pressure ratio of 32, how much can the pressure ratio of the new cycle be decreased to reach the same specific work?\n",
    "2. The thermal efficiency for which cycle is more sensitive to changes in compressor efficiency (explain why)? \n",
    "3. Which turbomachinery losses have a greater impact on the performance of the power cycl (explain why)?\n",
    "4. What are the advantages and disadvantages of the new cycle configuration?\n",
    "\n",
    "**Hand in:**\n",
    "* Report (no longer than 4 pages). Use plots from the code below.\n",
    "* Python (or matlab) functions for the cycle.\n",
    "\n",
    "\n",
    "Click the {fa}`rocket` --> {guilabel}`Live Code` button above on this page, and run the code below.\n",
    "It is also possible to download the jupyter notebook and run it locally on your computer. \n"
   ]
  },
  {
   "cell_type": "markdown",
   "metadata": {
    "tags": []
   },
   "source": [
    "# Code\n"
   ]
  },
  {
   "cell_type": "markdown",
   "metadata": {},
   "source": [
    "### Brayton cycle, ideal gas (IG) with constant $c_p$"
   ]
  },
  {
   "cell_type": "code",
   "execution_count": 4,
   "metadata": {
    "tags": [
     "hide-input",
     "thebe-init"
    ]
   },
   "outputs": [],
   "source": [
    "def Brayton_IG(PR, cyc):\n",
    "    \n",
    "    TR    = cyc['TR'].value       # temperature ratio (tmax/tmin)\n",
    "    gam_c = cyc['gam_c'].value    # specific heat capacity ratio for compressor \n",
    "    gam_t = cyc['gam_t'].value    # specific heat capacity ratio for turbine \n",
    "    etap_c = cyc['etap_c'].value  # polytropic eff for compressor\n",
    "    etap_t = cyc['etap_t'].value  # polytropic eff for turbine\n",
    "    PR_cc  = cyc['PR_cc'].value   # combustion chamber pressure ratio\n",
    "\n",
    "    \n",
    "    # Inputs, gam_c = gamma_air, gam_t = gamma_flg\n",
    "    T02 = 293.15\n",
    "    cp_c = R_gas*gam_c/(gam_c-1)\n",
    "    cp_t = R_gas*gam_t/(gam_t-1)\n",
    "    \n",
    "    # Compressor stage \n",
    "    TR_c = PR**((gam_c-1)/gam_c/etap_c)\n",
    "    T03 = T02*TR_c\n",
    "\n",
    "    # Combustion \n",
    "    T04 = T02*TR\n",
    "\n",
    "    # Pressure loss in combustion chamber \n",
    "    PR_t = PR*PR_cc\n",
    "\n",
    "    # Turbine stage\n",
    "    TRt = (1/PR_t)**((gam_t-1)/gam_t*etap_t)\n",
    "    T05 = TRt*T04\n",
    "    \n",
    "    # Cycle\n",
    "    w_t = cp_t*(T04-T05)\n",
    "    w_c = cp_c*(T03-T02)\n",
    "    hin = (cp_c+cp_t)/2*(T04-T03)\n",
    "    eta = (w_t-w_c)/hin\n",
    "    specw = (w_t-w_c)/(cp_c*T02)\n",
    "    \n",
    "    # Entropy and temperature\n",
    "    ds_3 = cp_c*np.log(T03/T02) - R_gas*np.log(PR) # compression\n",
    "    ds_4 = 0.5*(cp_c+cp_t)*np.log(T04/T03) - R_gas*np.log(PR_cc) # heat injection\n",
    "    ds_5 = cp_t*np.log(T05/T04) - R_gas*np.log(1/PR_t) # expansion\n",
    "    \n",
    "    s_2 = 0\n",
    "    s_3 = ds_3\n",
    "    s_4 = s_3 + ds_4\n",
    "    s_5 = s_4 + ds_5\n",
    "    \n",
    "    # Concatenate tuples\n",
    "    entr = [s_2, s_3, s_4, s_5, s_2] # s_2 = 0, reference!\n",
    "    temp = [T02, T03, T04, T05, T02]\n",
    "    \n",
    "    return specw, eta, entr, temp"
   ]
  },
  {
   "cell_type": "markdown",
   "metadata": {},
   "source": [
    "### Brayton cycle with CoolProp, real gas (RG)"
   ]
  },
  {
   "cell_type": "code",
   "execution_count": 5,
   "metadata": {},
   "outputs": [],
   "source": [
    "def Brayton_RG(PR, cyc):\n",
    "    \n",
    "    TR    = cyc['TR'].value       # temperature ratio (tmax/tmin)\n",
    "    etap_c = cyc['etap_c'].value  # polytropic eff for compressor\n",
    "    etap_t = cyc['etap_t'].value  # polytropic eff for turbine\n",
    "    \n",
    "    fl = \"air\"\n",
    "\n",
    "    # compressor inlet \n",
    "    T02 = 293.15\n",
    "    P02 = 1.0e5\n",
    "    h02  = cp.PropsSI('H', 'T', T02, 'P', P02, fl)\n",
    "    s02  = cp.PropsSI('S', 'T', T02, 'P', P02, fl)\n",
    "    \n",
    "    # compressor outlet / combustion chamber inlet\n",
    "    P03  = P02 * PR\n",
    "    s03s = s02 \n",
    "    h03s = cp.PropsSI('H', 'P', P03, 'S', s03s, fl)\n",
    "    h03  = h02 + (h03s-h02)/etap_c\n",
    "    T03  = cp.PropsSI('T', 'P', P03, 'H', h03, fl)\n",
    "    s03  = cp.PropsSI('S', 'P', P03, 'H', h03, fl)\n",
    "\n",
    "    # combustion chamber outlet / turbine inlet\n",
    "    P04  = P03\n",
    "    T04  = T02 * TR\n",
    "    h04  = cp.PropsSI('H', 'T', T04, 'P', P04, fl)\n",
    "    s04  = cp.PropsSI('S', 'T', T04, 'P', P04, fl)\n",
    "\n",
    "    # turbine outlet\n",
    "    P05  = P02\n",
    "    s05s = s04\n",
    "    h05s = cp.PropsSI('H', 'P', P05, 'S', s05s, fl)\n",
    "    h05  = h04 - (h04-h05s)*etap_c\n",
    "    T05  = cp.PropsSI('T', 'H', h05, 'P', P05, fl)\n",
    "    s05  = cp.PropsSI('S', 'T', T05, 'P', P05, fl)\n",
    "\n",
    "    # Cycle\n",
    "    w_t = h04-h05   # cp_t*(T04-T05)\n",
    "    w_c = h03-h02   # cp_c*(T03-T02)\n",
    "    hin = h04-h03   # (cp_c+cp_t)/2*(T04-T03)\n",
    "    eta = (w_t-w_c)/hin\n",
    "    specw = (w_t-w_c)/h02 #(cp_c*T02)\n",
    "        \n",
    "    # Concatenate tuples\n",
    "    entr = [0, s03-s02, s04-s02, s05-s02, 0.0] # s_2 = 0 is reference!\n",
    "    temp = [T02, T03, T04, T05, T02]\n",
    "    \n",
    "    return specw, eta, entr, temp"
   ]
  },
  {
   "cell_type": "markdown",
   "metadata": {},
   "source": [
    "### Recuperated Brayton cycle, ideal gas (IG)"
   ]
  },
  {
   "cell_type": "code",
   "execution_count": 6,
   "metadata": {
    "tags": [
     "hide-input",
     "thebe-init"
    ]
   },
   "outputs": [],
   "source": [
    "def BraytonRecup_IG(PR, cyc):\n",
    "    \n",
    "#     PR    = cyc['PR'].value       # pressure ratio\n",
    "    TR    = cyc['TR'].value       # temperature ratio (tmax/tmin)\n",
    "    gam_c = cyc['gam_c'].value    # specific heat capacity ratio for compressor \n",
    "    gam_t = cyc['gam_t'].value    # specific heat capacity ratio for turbine \n",
    "    etap_c = cyc['etap_c'].value  # polytropic eff for compressor\n",
    "    etap_t = cyc['etap_t'].value  # polytropic eff for turbine\n",
    "    PR_cc  = cyc['PR_cc'].value   # combustion chamber pressure ratio\n",
    "    \n",
    "    # Inputs, gam_c = gamma_air, gam_t = gamma_flg\n",
    "    T02 = 293.15\n",
    "    cp_c = R_gas*gam_c/(gam_c-1)\n",
    "    cp_t = R_gas*gam_t/(gam_t-1)\n",
    "    \n",
    "    # Compressor stage \n",
    "    TR_c = PR**((gam_c-1)/gam_c/etap_c)\n",
    "    T03 = T02*TR_c\n",
    "\n",
    "    # Combustion stage\n",
    "    T04 = T02*TR\n",
    "\n",
    "    # Stuff for pressure loss \n",
    "    PR_t = PR*PR_cc\n",
    "\n",
    "    # Turbine stage\n",
    "    TRt = (1/PR_t)**((gam_t-1)/gam_t*etap_t)\n",
    "    T05 = TRt*T04\n",
    "    \n",
    "    # Cycle\n",
    "    w_t = cp_t*(T04-T05)\n",
    "    w_c = cp_c*(T03-T02)\n",
    "    if T05 > T03:\n",
    "        hin = (cp_c+cp_t)/2*(T04-T05)\n",
    "    else:\n",
    "        hin = (cp_c+cp_t)/2*(T04-T03)\n",
    "        \n",
    "    eta = (w_t-w_c)/hin\n",
    "    specw = (w_t-w_c)/(cp_c*T02)\n",
    "    \n",
    "    # Entropy and temperature\n",
    "    ds_3 = cp_c*np.log(T03/T02) - R_gas*np.log(PR) # compression\n",
    "    ds_4 = 0.5*(cp_c+cp_t)*np.log(T04/T03) - R_gas*np.log(PR_cc) # heat injection\n",
    "    ds_5 = cp_t*np.log(T05/T04) - R_gas*np.log(1/PR_t) # expansion\n",
    "    \n",
    "    s_2 = 0\n",
    "    s_3 = ds_3\n",
    "    s_4 = s_3 + ds_4\n",
    "    s_5 = s_4 + ds_5\n",
    "    \n",
    "    # Concatenate tuples\n",
    "    entr = [s_2, s_3, s_4, s_5, s_2] # s_2 = 0, reference!\n",
    "    temp = [T02, T03, T04, T05, T02]\n",
    "    \n",
    "    return specw, eta, entr, temp"
   ]
  },
  {
   "cell_type": "markdown",
   "metadata": {},
   "source": [
    "### Your cycle calculation"
   ]
  },
  {
   "cell_type": "code",
   "execution_count": 7,
   "metadata": {
    "tags": [
     "hide-input",
     "thebe-init"
    ]
   },
   "outputs": [],
   "source": [
    "def YOUR_ASSIGNEMNT(PR, cyc):\n",
    "    \n",
    "#     PR    = cyc['PR'].value       # pressure ratio\n",
    "    TR    = cyc['TR'].value       # temperature ratio (tmax/tmin)\n",
    "    gam_c = cyc['gam_c'].value    # specific heat capacity ratio for compressor \n",
    "    gam_t = cyc['gam_t'].value    # specific heat capacity ratio for turbine \n",
    "    etap_c = cyc['etap_c'].value  # polytropic eff for compressor\n",
    "    etap_t = cyc['etap_t'].value  # polytropic eff for turbine\n",
    "    PR_cc  = cyc['PR_cc'].value   # combustion chamber pressure ratio\n",
    "    \n",
    "    # Inputs, gam_c = gamma_air, gam_t = gamma_flg\n",
    "    T02 = 293.15\n",
    "\n",
    "    \n",
    "    #------------------------------\n",
    "    # code your model here:\n",
    "    \n",
    "    \n",
    "    \n",
    "    \n",
    "    # Concatenate tuples\n",
    "    entr = [s_2, s_3, s_4, s_5, s_6, s_7, s_2] # s_2 = 0, reference!\n",
    "    temp = [T02, T03, T04, T05, T06, T07, T02]\n",
    "    \n",
    "    return specw, eta, entr, temp"
   ]
  },
  {
   "cell_type": "markdown",
   "metadata": {},
   "source": [
    "# Compare and plot"
   ]
  },
  {
   "cell_type": "code",
   "execution_count": 8,
   "metadata": {},
   "outputs": [],
   "source": [
    "import ipywidgets as widgets\n",
    "from ipywidgets import interact, interactive, interact_manual, interactive_output, Label\n",
    "import numpy as np\n",
    "from matplotlib import pyplot as plt\n",
    "\n",
    "# this only works in jupyter notebooks (remove it otherwise)\n",
    "%matplotlib inline\n",
    "%config InlineBackend.figure_format = 'retina'\n",
    "from matplotlib import rc, rcParams\n",
    "rcParams.update({'font.size': 16})\n",
    "\n",
    "# import coolprop. to install coolprop use \"pip install CoolProp\" in a terminal or directly here using: \n",
    "# !pip install CoolProp   # uncomment this line to install CoolProp here.\n",
    "import CoolProp.CoolProp as cp"
   ]
  },
  {
   "cell_type": "code",
   "execution_count": 10,
   "metadata": {
    "scrolled": false
   },
   "outputs": [
    {
     "data": {
      "application/vnd.jupyter.widget-view+json": {
       "model_id": "88dc56bf22d946abadea79e35baef570",
       "version_major": 2,
       "version_minor": 0
      },
      "text/plain": [
       "HBox(children=(VBox(children=(Dropdown(description='type', options=('Brayton_IG', 'Brayton_RG', 'BraytonRecup_…"
      ]
     },
     "metadata": {},
     "output_type": "display_data"
    },
    {
     "data": {
      "application/vnd.jupyter.widget-view+json": {
       "model_id": "8fb8f0899f8647419edfcf50d630a81f",
       "version_major": 2,
       "version_minor": 0
      },
      "text/plain": [
       "Output()"
      ]
     },
     "metadata": {},
     "output_type": "display_data"
    }
   ],
   "source": [
    "R_gas = 287.0\n",
    "\n",
    "# Define colors for the cycles. Note, number of defined colors is also number of cycles to compare \n",
    "colors = ['red','blue']           # two cycles\n",
    "# colors = ['red','blue', 'green']  # three cycles\n",
    "\n",
    "# dictionary of available cycle functions, add new functions if necessary \n",
    "functions = {'Brayton_IG':      Brayton_IG, \n",
    "             'Brayton_RG':      Brayton_RG, \n",
    "             'BraytonRecup_IG': BraytonRecup_IG, \n",
    "             'YOUR_ASSIGNEMNT': YOUR_ASSIGNEMNT}\n",
    "\n",
    "# define a dictionary for cycle parameters\n",
    "cycle  = {}\n",
    "\n",
    "# make a list of cycles depending on how many colors have been defined\n",
    "cycles = [cycle.copy() for i in colors]\n",
    "\n",
    "# function to plot T-s d\n",
    "def plotResult(update):\n",
    "    with out:\n",
    "        out.clear_output(wait=True)\n",
    "        \n",
    "        fig, ax = plt.subplots(2, 2, figsize=(14,6))\n",
    "        grid = plt.GridSpec(2, 2)\n",
    "        ax = [plt.subplot(grid[:, 0]), plt.subplot(grid[0, 1]), plt.subplot(grid[1, 1])]\n",
    "\n",
    "        for n,c in enumerate(cycles):\n",
    "            # left plot: T-s diagram \n",
    "            work, eta, S, T = functions[c['type'].value](c['PR'].value, c)\n",
    "            Tmax = np.amax(T)\n",
    "\n",
    "            ax[0].semilogy(S,T, color=colors[n], label='Tmax='+str(round(Tmax,2)))\n",
    "            ax[1].plot(c['PR'].value, eta*100,  'o', color=colors[n], ms = 12, label=str(round(eta*100, 2)))\n",
    "            ax[2].plot(c['PR'].value, work, 'o', color=colors[n], ms = 12, label=str(round(work,3)))\n",
    "\n",
    "            # right plots, thermal eff and spec. work as a function of pressure ratio\n",
    "            PR = 10**np.linspace(np.log10(1.001), np.log10(64.0), 50)\n",
    "            work = np.zeros(PR.size)\n",
    "            eta  = np.zeros(PR.size)\n",
    "            for i,p in enumerate(PR):\n",
    "                work[i], eta[i], S, T = functions[c['type'].value](p, c)\n",
    "                \n",
    "            ax[1].plot(PR, eta*100,  color=colors[n])\n",
    "            ax[2].plot(PR, work, color=colors[n])\n",
    "\n",
    "        # add legends, labels, etc.\n",
    "        ax[0].set_yticks(np.arange(200,2201,200))\n",
    "        ax[0].set_yticklabels(str(i) for i in np.arange(200,2201,200))\n",
    "\n",
    "        ax[0].set_xlabel(\"Entropy (J/kg/K)\")\n",
    "        ax[0].set_ylabel(\"Temperature (K)\")\n",
    "        ax[1].set_ylabel(\"Therm. Eff. (%)\")\n",
    "        ax[2].set_xlabel(\"Pressure ratio\")\n",
    "        ax[2].set_ylabel(\"Spec. work\")\n",
    "        for a in ax:\n",
    "            a.legend()\n",
    "            a.grid()\n",
    "            \n",
    "        ax[1].set_ylim((0,100))\n",
    "        ax[2].set_ylim((0,4))\n",
    "\n",
    "        plt.show()\n",
    "        \n",
    "\n",
    "# Define dropdown menu and sliders \n",
    "for i,c in enumerate(cycles):\n",
    "    style = {'handle_color': colors[i]}\n",
    "    c['type']   = widgets.Dropdown(options=list(functions.keys()),             description='type')\n",
    "    c['PR']     = widgets.FloatLogSlider(value=32,base=2,min=1,max=6,step=0.1, description='PR',    style = style)\n",
    "    c['TR']     = widgets.FloatSlider(value=6.0, min=3, max=7, step=0.1,       description='TR',    style = style)\n",
    "    c['gam_c']  = widgets.FloatSlider(value=1.4, min=1.00, max=1.8, step=0.01, description='gam_c', style = style)\n",
    "    c['gam_t']  = widgets.FloatSlider(value=1.4, min=1.00, max=1.8, step=0.01, description='gam_t', style = style)\n",
    "    c['etap_c'] = widgets.FloatSlider(value=1.0, min=0.01, max=1.0, step=0.01, description='etap_c',style = style)\n",
    "    c['etap_t'] = widgets.FloatSlider(value=1.0, min=0.01, max=1.0, step=0.01, description='etap_t',style = style)\n",
    "    c['PR_cc']  = widgets.FloatSlider(value=1.0, min=0.01, max=1.0, step=0.01, description='PR_cc', style = style)\n",
    "\n",
    "# if the sliders are changed, call plotResult to update the plots\n",
    "for c in cycles:\n",
    "    for k in c.keys():\n",
    "        c[k].observe(plotResult)    \n",
    "\n",
    "# display widgets\n",
    "ui = []\n",
    "for c in cycles:\n",
    "    ui.append(widgets.VBox(([c[key] for key in c.keys()])))\n",
    "ui = widgets.HBox(ui)\n",
    "        \n",
    "# add output\n",
    "out = widgets.Output()\n",
    "\n",
    "# initial plots\n",
    "plotResult([])\n",
    "\n",
    "# display widgets and plot\n",
    "display(ui, out)"
   ]
  },
  {
   "cell_type": "code",
   "execution_count": null,
   "metadata": {},
   "outputs": [],
   "source": []
  },
  {
   "cell_type": "code",
   "execution_count": null,
   "metadata": {},
   "outputs": [],
   "source": []
  },
  {
   "cell_type": "code",
   "execution_count": null,
   "metadata": {},
   "outputs": [],
   "source": []
  }
 ],
 "metadata": {
  "kernelspec": {
   "display_name": "Python 3",
   "language": "python",
   "name": "python3"
  },
  "language_info": {
   "codemirror_mode": {
    "name": "ipython",
    "version": 3
   },
   "file_extension": ".py",
   "mimetype": "text/x-python",
   "name": "python",
   "nbconvert_exporter": "python",
   "pygments_lexer": "ipython3",
   "version": "3.8.5"
  },
  "widgets": {
   "application/vnd.jupyter.widget-state+json": {
    "state": {
     "00176cf2b1964e079a6e0d605a318fda": {
      "model_module": "@jupyter-widgets/base",
      "model_module_version": "1.2.0",
      "model_name": "LayoutModel",
      "state": {}
     },
     "02566b07f62d42179fbdf00e0fbeeda4": {
      "model_module": "@jupyter-widgets/controls",
      "model_module_version": "1.5.0",
      "model_name": "FloatSliderModel",
      "state": {
       "description": "TR1",
       "layout": "IPY_MODEL_7aa0b6339dff42029627d9264d141dfe",
       "max": 7,
       "min": 3,
       "step": 0.5,
       "style": "IPY_MODEL_4a24e54dc6fc4d7cabf769e3e1294bcb",
       "value": 5
      }
     },
     "0966c0bac3d34a33917d5aa8fe97e371": {
      "model_module": "@jupyter-widgets/controls",
      "model_module_version": "1.5.0",
      "model_name": "DescriptionStyleModel",
      "state": {
       "description_width": ""
      }
     },
     "0a01fe39ba3c48718d2b47ebdd29f8f0": {
      "model_module": "@jupyter-widgets/base",
      "model_module_version": "1.2.0",
      "model_name": "LayoutModel",
      "state": {}
     },
     "0cc20a0025484afb8f59556424b252e1": {
      "model_module": "@jupyter-widgets/controls",
      "model_module_version": "1.5.0",
      "model_name": "FloatSliderModel",
      "state": {
       "description": "TR2",
       "layout": "IPY_MODEL_94a51324a264489d8156f963698fce16",
       "max": 7,
       "min": 3,
       "step": 0.5,
       "style": "IPY_MODEL_d48ed01b194741f9b8fca513e60eb463",
       "value": 5
      }
     },
     "0e02f8b909774b0e9a86bdd878948657": {
      "model_module": "@jupyter-widgets/controls",
      "model_module_version": "1.5.0",
      "model_name": "SliderStyleModel",
      "state": {
       "description_width": "",
       "handle_color": "blue"
      }
     },
     "0ea9db3a279646cfb7b731b15710220b": {
      "model_module": "@jupyter-widgets/base",
      "model_module_version": "1.2.0",
      "model_name": "LayoutModel",
      "state": {}
     },
     "0f5bd4f5cac54ec28d290f3fbec51188": {
      "model_module": "@jupyter-widgets/controls",
      "model_module_version": "1.5.0",
      "model_name": "SliderStyleModel",
      "state": {
       "description_width": "",
       "handle_color": "blue"
      }
     },
     "0f70fd3a13f0448eb25550b3bd826d14": {
      "model_module": "@jupyter-widgets/controls",
      "model_module_version": "1.5.0",
      "model_name": "SliderStyleModel",
      "state": {
       "description_width": "",
       "handle_color": "blue"
      }
     },
     "113a4ce33f304d4c83e548b2b7633053": {
      "model_module": "@jupyter-widgets/controls",
      "model_module_version": "1.5.0",
      "model_name": "TextModel",
      "state": {
       "description": "$\\color{red} {T_{min} [K] =}$",
       "disabled": true,
       "layout": "IPY_MODEL_d3197054b17b47bc91f01244223a08b4",
       "style": "IPY_MODEL_326eafb04f744494a28cf1199b580cdf",
       "value": "293.15"
      }
     },
     "1e4dbc3d30114a6bb260a981ea12334f": {
      "model_module": "@jupyter-widgets/controls",
      "model_module_version": "1.5.0",
      "model_name": "HBoxModel",
      "state": {
       "children": [
        "IPY_MODEL_f00aeb38150244a7a8d0ef080f821975",
        "IPY_MODEL_bd6d476270084a3b96f8ed32f21d5556"
       ],
       "layout": "IPY_MODEL_1eff0a4eaecc48eabd86620530f687ec"
      }
     },
     "1eff0a4eaecc48eabd86620530f687ec": {
      "model_module": "@jupyter-widgets/base",
      "model_module_version": "1.2.0",
      "model_name": "LayoutModel",
      "state": {}
     },
     "28fd6df5bc0c4cba96d00732822d2dd1": {
      "model_module": "@jupyter-widgets/controls",
      "model_module_version": "1.5.0",
      "model_name": "DescriptionStyleModel",
      "state": {
       "description_width": ""
      }
     },
     "326eafb04f744494a28cf1199b580cdf": {
      "model_module": "@jupyter-widgets/controls",
      "model_module_version": "1.5.0",
      "model_name": "DescriptionStyleModel",
      "state": {
       "description_width": ""
      }
     },
     "32f9ee7054204f8fa0d0ef0ce1f02f17": {
      "model_module": "@jupyter-widgets/base",
      "model_module_version": "1.2.0",
      "model_name": "LayoutModel",
      "state": {}
     },
     "37b77449ab1b4e7d88fe239e690121bd": {
      "model_module": "@jupyter-widgets/controls",
      "model_module_version": "1.5.0",
      "model_name": "CheckboxModel",
      "state": {
       "description": "Plot in semilogy",
       "disabled": false,
       "layout": "IPY_MODEL_71020a7096b34870a56c2d410ae23c6c",
       "style": "IPY_MODEL_0966c0bac3d34a33917d5aa8fe97e371",
       "value": true
      }
     },
     "393a7d5b404f488abd4c8762d2935a1a": {
      "model_module": "@jupyter-widgets/controls",
      "model_module_version": "1.5.0",
      "model_name": "HBoxModel",
      "state": {
       "children": [
        "IPY_MODEL_7e958136c51343a8b37018dcde14e0cb",
        "IPY_MODEL_b0034c0912f642279a73d8d90bd78d00",
        "IPY_MODEL_5a51923f1d51419181a2e9a2338940e5",
        "IPY_MODEL_113a4ce33f304d4c83e548b2b7633053"
       ],
       "layout": "IPY_MODEL_ed923a3d55b946d59b59356cbd5b214d"
      }
     },
     "393c97c23a9b436bae4e1506a65664d4": {
      "model_module": "@jupyter-widgets/base",
      "model_module_version": "1.2.0",
      "model_name": "LayoutModel",
      "state": {}
     },
     "3ca114eed1684fdb8e5ed8c1e4dcd789": {
      "model_module": "@jupyter-widgets/base",
      "model_module_version": "1.2.0",
      "model_name": "LayoutModel",
      "state": {}
     },
     "3e0f5ebebd5a48e4bc72635c6ac6269a": {
      "model_module": "@jupyter-widgets/base",
      "model_module_version": "1.2.0",
      "model_name": "LayoutModel",
      "state": {}
     },
     "3e8816cd1f0f484a86a849ef50afba04": {
      "model_module": "@jupyter-widgets/controls",
      "model_module_version": "1.5.0",
      "model_name": "DescriptionStyleModel",
      "state": {
       "description_width": ""
      }
     },
     "3ec43d39417f4cd790f54ea1ec4da380": {
      "model_module": "@jupyter-widgets/controls",
      "model_module_version": "1.5.0",
      "model_name": "FloatSliderModel",
      "state": {
       "description": "$\\gamma_{comp,2}$",
       "layout": "IPY_MODEL_8df56ec6158c483cb7d29fcdcef35935",
       "max": 1.8,
       "min": 1,
       "step": 0.01,
       "style": "IPY_MODEL_8eedc2ccd6ca4e03b884654168d2fe1c",
       "value": 1.4
      }
     },
     "404a57f1ab4a4ba3bb2bd610bc2f9eb7": {
      "model_module": "@jupyter-widgets/controls",
      "model_module_version": "1.5.0",
      "model_name": "DropdownModel",
      "state": {
       "_options_labels": [
        "Basic",
        "Recuperated",
        "Assignment"
       ],
       "description": "\\(\\color{blue} {Cycle\\ 1}\\)",
       "index": 0,
       "layout": "IPY_MODEL_3ca114eed1684fdb8e5ed8c1e4dcd789",
       "style": "IPY_MODEL_a03cf5c7cb4c46d49a7a07f29369af6e"
      }
     },
     "4534d4fdc24b4214b931744cb716864a": {
      "model_module": "@jupyter-widgets/controls",
      "model_module_version": "1.5.0",
      "model_name": "FloatSliderModel",
      "state": {
       "description": "$\\eta_{p,turb2}$",
       "layout": "IPY_MODEL_974de9daec6646f0ae7bc566bbd42d04",
       "max": 1,
       "min": 0.01,
       "step": 0.01,
       "style": "IPY_MODEL_5da4af4deaba4e1ea4ba8ddc0b4055b6",
       "value": 1
      }
     },
     "47656fcae8e4438ea3a3de084c291ec9": {
      "model_module": "@jupyter-widgets/controls",
      "model_module_version": "1.5.0",
      "model_name": "HBoxModel",
      "state": {
       "children": [
        "IPY_MODEL_78834ae4390f4b2b9d4b0c33d8d96036",
        "IPY_MODEL_8356e4d59c9e4165974bd4f274a030d2",
        "IPY_MODEL_f731ae5d86944d758417b880fe94b1db",
        "IPY_MODEL_599f984377794e30acda21b4d3efa7d2"
       ],
       "layout": "IPY_MODEL_fa6aa00a2174415cb64ab133ac42edee"
      }
     },
     "4a24e54dc6fc4d7cabf769e3e1294bcb": {
      "model_module": "@jupyter-widgets/controls",
      "model_module_version": "1.5.0",
      "model_name": "SliderStyleModel",
      "state": {
       "description_width": "",
       "handle_color": "blue"
      }
     },
     "4ddb69a2e9324c02a5f3e5bf11226e34": {
      "model_module": "@jupyter-widgets/base",
      "model_module_version": "1.2.0",
      "model_name": "LayoutModel",
      "state": {}
     },
     "513092f2d82449fcb82af87bc3f01d3e": {
      "model_module": "@jupyter-widgets/controls",
      "model_module_version": "1.5.0",
      "model_name": "DropdownModel",
      "state": {
       "_options_labels": [
        "Basic",
        "Recuperated",
        "Assignment"
       ],
       "description": "\\(\\color{red} {Cycle\\ 2}\\)",
       "index": 0,
       "layout": "IPY_MODEL_d15421bb387c44dd83ed4e292b363697",
       "style": "IPY_MODEL_55c14cdd80cc452e8237c5f55eb1d8aa"
      }
     },
     "52316faf1131417883f5b331aaf2ccff": {
      "model_module": "@jupyter-widgets/controls",
      "model_module_version": "1.5.0",
      "model_name": "DescriptionStyleModel",
      "state": {
       "description_width": ""
      }
     },
     "55c14cdd80cc452e8237c5f55eb1d8aa": {
      "model_module": "@jupyter-widgets/controls",
      "model_module_version": "1.5.0",
      "model_name": "DescriptionStyleModel",
      "state": {
       "description_width": ""
      }
     },
     "599f984377794e30acda21b4d3efa7d2": {
      "model_module": "@jupyter-widgets/controls",
      "model_module_version": "1.5.0",
      "model_name": "TextModel",
      "state": {
       "description": "$\\color{red} {w_{s} =}$",
       "disabled": true,
       "layout": "IPY_MODEL_bdecab36904b4f969507b58b1e5c4144",
       "style": "IPY_MODEL_c6ecbdad4e124fb8b44ae480ce41aa4e",
       "value": "1.43"
      }
     },
     "5a51923f1d51419181a2e9a2338940e5": {
      "model_module": "@jupyter-widgets/controls",
      "model_module_version": "1.5.0",
      "model_name": "TextModel",
      "state": {
       "description": "$\\color{blue} {T_{min} [K] =}$",
       "disabled": true,
       "layout": "IPY_MODEL_bfd7261edc964668aed498b33c90504f",
       "style": "IPY_MODEL_52316faf1131417883f5b331aaf2ccff",
       "value": "293.15"
      }
     },
     "5da4af4deaba4e1ea4ba8ddc0b4055b6": {
      "model_module": "@jupyter-widgets/controls",
      "model_module_version": "1.5.0",
      "model_name": "SliderStyleModel",
      "state": {
       "description_width": "",
       "handle_color": "red"
      }
     },
     "60f6073f223543ddbe3c570b94c5b7b0": {
      "model_module": "@jupyter-widgets/controls",
      "model_module_version": "1.5.0",
      "model_name": "FloatSliderModel",
      "state": {
       "description": "$\\gamma_{comp,1}$",
       "layout": "IPY_MODEL_b9d2a4888efb4de4bca380cc8eece5ec",
       "max": 1.8,
       "min": 1,
       "step": 0.01,
       "style": "IPY_MODEL_0f5bd4f5cac54ec28d290f3fbec51188",
       "value": 1.4
      }
     },
     "64dd0bf033ca47eeab6e076484c79b0a": {
      "model_module": "@jupyter-widgets/controls",
      "model_module_version": "1.5.0",
      "model_name": "SliderStyleModel",
      "state": {
       "description_width": "",
       "handle_color": "blue"
      }
     },
     "6754e64a86c248b89389d78017ad0c09": {
      "model_module": "@jupyter-widgets/base",
      "model_module_version": "1.2.0",
      "model_name": "LayoutModel",
      "state": {}
     },
     "688f6e03f3c14d998240eb0149e0fe69": {
      "model_module": "@jupyter-widgets/controls",
      "model_module_version": "1.5.0",
      "model_name": "SliderStyleModel",
      "state": {
       "description_width": "",
       "handle_color": "red"
      }
     },
     "69176f5d7d3c45f2a12c01d717b66b15": {
      "model_module": "@jupyter-widgets/controls",
      "model_module_version": "1.5.0",
      "model_name": "DescriptionStyleModel",
      "state": {
       "description_width": ""
      }
     },
     "6c9632f03e6c4d47bbb0feebf851582d": {
      "model_module": "@jupyter-widgets/controls",
      "model_module_version": "1.5.0",
      "model_name": "HBoxModel",
      "state": {
       "children": [
        "IPY_MODEL_60f6073f223543ddbe3c570b94c5b7b0",
        "IPY_MODEL_3ec43d39417f4cd790f54ea1ec4da380",
        "IPY_MODEL_8b10a61e92154f2285690781ccd43916",
        "IPY_MODEL_ac339ed18c994f7bb0dd385352e79ecb"
       ],
       "layout": "IPY_MODEL_4ddb69a2e9324c02a5f3e5bf11226e34"
      }
     },
     "6ece611a22c6464ba827864f05a6eed9": {
      "model_module": "@jupyter-widgets/base",
      "model_module_version": "1.2.0",
      "model_name": "LayoutModel",
      "state": {}
     },
     "71020a7096b34870a56c2d410ae23c6c": {
      "model_module": "@jupyter-widgets/base",
      "model_module_version": "1.2.0",
      "model_name": "LayoutModel",
      "state": {}
     },
     "78834ae4390f4b2b9d4b0c33d8d96036": {
      "model_module": "@jupyter-widgets/controls",
      "model_module_version": "1.5.0",
      "model_name": "FloatSliderModel",
      "state": {
       "description": "$\\gamma_{turb,1}$",
       "layout": "IPY_MODEL_fedd4901215b4a48b89f56fcb0557c20",
       "max": 1.8,
       "min": 1,
       "step": 0.01,
       "style": "IPY_MODEL_64dd0bf033ca47eeab6e076484c79b0a",
       "value": 1.4
      }
     },
     "7aa0b6339dff42029627d9264d141dfe": {
      "model_module": "@jupyter-widgets/base",
      "model_module_version": "1.2.0",
      "model_name": "LayoutModel",
      "state": {}
     },
     "7ab663a7c45a4adcbe958ffff2439cc9": {
      "model_module": "@jupyter-widgets/base",
      "model_module_version": "1.2.0",
      "model_name": "LayoutModel",
      "state": {}
     },
     "7e958136c51343a8b37018dcde14e0cb": {
      "model_module": "@jupyter-widgets/controls",
      "model_module_version": "1.5.0",
      "model_name": "FloatLogSliderModel",
      "state": {
       "base": 2,
       "description": "PR1",
       "layout": "IPY_MODEL_a19fe755de454b41b7f8d70577ad35c7",
       "max": 6,
       "min": 1,
       "style": "IPY_MODEL_b826f14357884bcdad865b216bca3251",
       "value": 8
      }
     },
     "8356e4d59c9e4165974bd4f274a030d2": {
      "model_module": "@jupyter-widgets/controls",
      "model_module_version": "1.5.0",
      "model_name": "FloatSliderModel",
      "state": {
       "description": "$\\gamma_{turb,2}$",
       "layout": "IPY_MODEL_393c97c23a9b436bae4e1506a65664d4",
       "max": 1.8,
       "min": 1,
       "step": 0.01,
       "style": "IPY_MODEL_8fbbddcdf30340e292751643ac29b3d0",
       "value": 1.4
      }
     },
     "87b36d30941d4cb698b6c716b88483f7": {
      "model_module": "@jupyter-widgets/base",
      "model_module_version": "1.2.0",
      "model_name": "LayoutModel",
      "state": {}
     },
     "8b10a61e92154f2285690781ccd43916": {
      "model_module": "@jupyter-widgets/controls",
      "model_module_version": "1.5.0",
      "model_name": "TextModel",
      "state": {
       "description": "$\\color{blue} {\\eta\\ [\\%] =}$",
       "disabled": true,
       "layout": "IPY_MODEL_d275da05cade4c3ab2ad8255daaecc50",
       "style": "IPY_MODEL_28fd6df5bc0c4cba96d00732822d2dd1",
       "value": "44.8"
      }
     },
     "8df56ec6158c483cb7d29fcdcef35935": {
      "model_module": "@jupyter-widgets/base",
      "model_module_version": "1.2.0",
      "model_name": "LayoutModel",
      "state": {}
     },
     "8eedc2ccd6ca4e03b884654168d2fe1c": {
      "model_module": "@jupyter-widgets/controls",
      "model_module_version": "1.5.0",
      "model_name": "SliderStyleModel",
      "state": {
       "description_width": "",
       "handle_color": "red"
      }
     },
     "8fbbddcdf30340e292751643ac29b3d0": {
      "model_module": "@jupyter-widgets/controls",
      "model_module_version": "1.5.0",
      "model_name": "SliderStyleModel",
      "state": {
       "description_width": "",
       "handle_color": "red"
      }
     },
     "8fc9601859534fc1a63fe8440b06473e": {
      "model_module": "@jupyter-widgets/controls",
      "model_module_version": "1.5.0",
      "model_name": "DescriptionStyleModel",
      "state": {
       "description_width": ""
      }
     },
     "94a51324a264489d8156f963698fce16": {
      "model_module": "@jupyter-widgets/base",
      "model_module_version": "1.2.0",
      "model_name": "LayoutModel",
      "state": {}
     },
     "95bbde16b05f4edd9ba81397c2396ebb": {
      "model_module": "@jupyter-widgets/controls",
      "model_module_version": "1.5.0",
      "model_name": "HBoxModel",
      "state": {
       "children": [
        "IPY_MODEL_acb384199def4131a7bf7df3806c5abe",
        "IPY_MODEL_4534d4fdc24b4214b931744cb716864a"
       ],
       "layout": "IPY_MODEL_c9fc678fd70b4c158c3ee37eed22a913"
      }
     },
     "96909957cb65492b96625fce68e1f0c4": {
      "model_module": "@jupyter-widgets/base",
      "model_module_version": "1.2.0",
      "model_name": "LayoutModel",
      "state": {}
     },
     "974de9daec6646f0ae7bc566bbd42d04": {
      "model_module": "@jupyter-widgets/base",
      "model_module_version": "1.2.0",
      "model_name": "LayoutModel",
      "state": {}
     },
     "9923dacb6ee24a569fae07efa69b03ff": {
      "model_module": "@jupyter-widgets/controls",
      "model_module_version": "1.5.0",
      "model_name": "HBoxModel",
      "state": {
       "children": [
        "IPY_MODEL_404a57f1ab4a4ba3bb2bd610bc2f9eb7",
        "IPY_MODEL_513092f2d82449fcb82af87bc3f01d3e"
       ],
       "layout": "IPY_MODEL_32f9ee7054204f8fa0d0ef0ce1f02f17"
      }
     },
     "a03cf5c7cb4c46d49a7a07f29369af6e": {
      "model_module": "@jupyter-widgets/controls",
      "model_module_version": "1.5.0",
      "model_name": "DescriptionStyleModel",
      "state": {
       "description_width": ""
      }
     },
     "a19fe755de454b41b7f8d70577ad35c7": {
      "model_module": "@jupyter-widgets/base",
      "model_module_version": "1.2.0",
      "model_name": "LayoutModel",
      "state": {}
     },
     "a8016c8818a34228b45892a2e29f755b": {
      "model_module": "@jupyter-widgets/output",
      "model_module_version": "1.0.0",
      "model_name": "OutputModel",
      "state": {
       "layout": "IPY_MODEL_6ece611a22c6464ba827864f05a6eed9",
       "outputs": [
        {
         "data": {
          "image/png": "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\n",
          "text/plain": "<Figure size 1382.4x518.4 with 2 Axes>"
         },
         "metadata": {
          "needs_background": "light"
         },
         "output_type": "display_data"
        }
       ]
      }
     },
     "ac339ed18c994f7bb0dd385352e79ecb": {
      "model_module": "@jupyter-widgets/controls",
      "model_module_version": "1.5.0",
      "model_name": "TextModel",
      "state": {
       "description": "$\\color{red} {\\eta\\ [\\%] =}$",
       "disabled": true,
       "layout": "IPY_MODEL_ec476a75ee694ae5a37051d5ee7427b4",
       "style": "IPY_MODEL_8fc9601859534fc1a63fe8440b06473e",
       "value": "44.8"
      }
     },
     "acb384199def4131a7bf7df3806c5abe": {
      "model_module": "@jupyter-widgets/controls",
      "model_module_version": "1.5.0",
      "model_name": "FloatSliderModel",
      "state": {
       "description": "$\\eta_{p,turb1}$",
       "layout": "IPY_MODEL_fe92a3aaac804d45ac21672d7f828abd",
       "max": 1,
       "min": 0.01,
       "step": 0.01,
       "style": "IPY_MODEL_0f70fd3a13f0448eb25550b3bd826d14",
       "value": 1
      }
     },
     "b0034c0912f642279a73d8d90bd78d00": {
      "model_module": "@jupyter-widgets/controls",
      "model_module_version": "1.5.0",
      "model_name": "FloatLogSliderModel",
      "state": {
       "base": 2,
       "description": "PR2",
       "layout": "IPY_MODEL_6754e64a86c248b89389d78017ad0c09",
       "max": 6,
       "min": 1,
       "style": "IPY_MODEL_c5f95a769777404f8a93c824c79463ec",
       "value": 8
      }
     },
     "b51e5a69e5944a578fd8ef7bf431a9fc": {
      "model_module": "@jupyter-widgets/base",
      "model_module_version": "1.2.0",
      "model_name": "LayoutModel",
      "state": {}
     },
     "b826f14357884bcdad865b216bca3251": {
      "model_module": "@jupyter-widgets/controls",
      "model_module_version": "1.5.0",
      "model_name": "SliderStyleModel",
      "state": {
       "description_width": "",
       "handle_color": "blue"
      }
     },
     "b893ecb1c9e6431dbd57d80aa2977db8": {
      "model_module": "@jupyter-widgets/controls",
      "model_module_version": "1.5.0",
      "model_name": "DescriptionStyleModel",
      "state": {
       "description_width": ""
      }
     },
     "b8d536f8af79416f929e6775637566cb": {
      "model_module": "@jupyter-widgets/controls",
      "model_module_version": "1.5.0",
      "model_name": "TextModel",
      "state": {
       "description": "$\\color{blue} {T_{max} [K] =}$",
       "disabled": true,
       "layout": "IPY_MODEL_faee1d56dfed4d29a946293f8e2e396f",
       "style": "IPY_MODEL_3e8816cd1f0f484a86a849ef50afba04",
       "value": "1465.75"
      }
     },
     "b9d2a4888efb4de4bca380cc8eece5ec": {
      "model_module": "@jupyter-widgets/base",
      "model_module_version": "1.2.0",
      "model_name": "LayoutModel",
      "state": {}
     },
     "bd6d476270084a3b96f8ed32f21d5556": {
      "model_module": "@jupyter-widgets/controls",
      "model_module_version": "1.5.0",
      "model_name": "FloatSliderModel",
      "state": {
       "description": "$\\eta_{p,comp2}$",
       "layout": "IPY_MODEL_b51e5a69e5944a578fd8ef7bf431a9fc",
       "max": 1,
       "min": 0.01,
       "step": 0.01,
       "style": "IPY_MODEL_be67ceddbc4b43129bf57ea09a206602",
       "value": 1
      }
     },
     "bdecab36904b4f969507b58b1e5c4144": {
      "model_module": "@jupyter-widgets/base",
      "model_module_version": "1.2.0",
      "model_name": "LayoutModel",
      "state": {}
     },
     "be67ceddbc4b43129bf57ea09a206602": {
      "model_module": "@jupyter-widgets/controls",
      "model_module_version": "1.5.0",
      "model_name": "SliderStyleModel",
      "state": {
       "description_width": "",
       "handle_color": "red"
      }
     },
     "bfd7261edc964668aed498b33c90504f": {
      "model_module": "@jupyter-widgets/base",
      "model_module_version": "1.2.0",
      "model_name": "LayoutModel",
      "state": {}
     },
     "c5f95a769777404f8a93c824c79463ec": {
      "model_module": "@jupyter-widgets/controls",
      "model_module_version": "1.5.0",
      "model_name": "SliderStyleModel",
      "state": {
       "description_width": "",
       "handle_color": "red"
      }
     },
     "c6ecbdad4e124fb8b44ae480ce41aa4e": {
      "model_module": "@jupyter-widgets/controls",
      "model_module_version": "1.5.0",
      "model_name": "DescriptionStyleModel",
      "state": {
       "description_width": ""
      }
     },
     "c9fc678fd70b4c158c3ee37eed22a913": {
      "model_module": "@jupyter-widgets/base",
      "model_module_version": "1.2.0",
      "model_name": "LayoutModel",
      "state": {}
     },
     "d07da70644bd4c88b02b6ede748807fe": {
      "model_module": "@jupyter-widgets/controls",
      "model_module_version": "1.5.0",
      "model_name": "TextModel",
      "state": {
       "description": "$\\color{red} {T_{max} [K] =}$",
       "disabled": true,
       "layout": "IPY_MODEL_3e0f5ebebd5a48e4bc72635c6ac6269a",
       "style": "IPY_MODEL_b893ecb1c9e6431dbd57d80aa2977db8",
       "value": "1465.75"
      }
     },
     "d15421bb387c44dd83ed4e292b363697": {
      "model_module": "@jupyter-widgets/base",
      "model_module_version": "1.2.0",
      "model_name": "LayoutModel",
      "state": {}
     },
     "d275da05cade4c3ab2ad8255daaecc50": {
      "model_module": "@jupyter-widgets/base",
      "model_module_version": "1.2.0",
      "model_name": "LayoutModel",
      "state": {}
     },
     "d2af5e7d3cc746fc9d7c902583561c82": {
      "model_module": "@jupyter-widgets/base",
      "model_module_version": "1.2.0",
      "model_name": "LayoutModel",
      "state": {}
     },
     "d3197054b17b47bc91f01244223a08b4": {
      "model_module": "@jupyter-widgets/base",
      "model_module_version": "1.2.0",
      "model_name": "LayoutModel",
      "state": {}
     },
     "d48ed01b194741f9b8fca513e60eb463": {
      "model_module": "@jupyter-widgets/controls",
      "model_module_version": "1.5.0",
      "model_name": "SliderStyleModel",
      "state": {
       "description_width": "",
       "handle_color": "red"
      }
     },
     "d7b41df621f1491d9e96a3f9227bfe5a": {
      "model_module": "@jupyter-widgets/controls",
      "model_module_version": "1.5.0",
      "model_name": "FloatSliderModel",
      "state": {
       "description": "$PR_{cc,1}$",
       "layout": "IPY_MODEL_00176cf2b1964e079a6e0d605a318fda",
       "max": 1,
       "min": 0.01,
       "step": 0.01,
       "style": "IPY_MODEL_e3b92a495133410e94bd4792473e39de",
       "value": 1
      }
     },
     "d9537109f7944636891a63e6dae81b5d": {
      "model_module": "@jupyter-widgets/controls",
      "model_module_version": "1.5.0",
      "model_name": "FloatSliderModel",
      "state": {
       "description": "$PR_{cc,2}$",
       "layout": "IPY_MODEL_e2cefe236fda490abbeb9afc2b02aacb",
       "max": 1,
       "min": 0.01,
       "step": 0.01,
       "style": "IPY_MODEL_688f6e03f3c14d998240eb0149e0fe69",
       "value": 1
      }
     },
     "db60c12597364d278202300fe18a5f90": {
      "model_module": "@jupyter-widgets/controls",
      "model_module_version": "1.5.0",
      "model_name": "VBoxModel",
      "state": {
       "children": [
        "IPY_MODEL_9923dacb6ee24a569fae07efa69b03ff",
        "IPY_MODEL_393a7d5b404f488abd4c8762d2935a1a",
        "IPY_MODEL_f6b6219ce9b4464fac66e5798ddc68db",
        "IPY_MODEL_6c9632f03e6c4d47bbb0feebf851582d",
        "IPY_MODEL_47656fcae8e4438ea3a3de084c291ec9",
        "IPY_MODEL_f3956a9988b544e2b1f2a093bd97bcf5",
        "IPY_MODEL_1e4dbc3d30114a6bb260a981ea12334f",
        "IPY_MODEL_95bbde16b05f4edd9ba81397c2396ebb",
        "IPY_MODEL_edac47d731ed4e1faa877652107a6051"
       ],
       "layout": "IPY_MODEL_87b36d30941d4cb698b6c716b88483f7"
      }
     },
     "e2cefe236fda490abbeb9afc2b02aacb": {
      "model_module": "@jupyter-widgets/base",
      "model_module_version": "1.2.0",
      "model_name": "LayoutModel",
      "state": {}
     },
     "e3b92a495133410e94bd4792473e39de": {
      "model_module": "@jupyter-widgets/controls",
      "model_module_version": "1.5.0",
      "model_name": "SliderStyleModel",
      "state": {
       "description_width": "",
       "handle_color": "blue"
      }
     },
     "ec476a75ee694ae5a37051d5ee7427b4": {
      "model_module": "@jupyter-widgets/base",
      "model_module_version": "1.2.0",
      "model_name": "LayoutModel",
      "state": {}
     },
     "ed923a3d55b946d59b59356cbd5b214d": {
      "model_module": "@jupyter-widgets/base",
      "model_module_version": "1.2.0",
      "model_name": "LayoutModel",
      "state": {}
     },
     "edac47d731ed4e1faa877652107a6051": {
      "model_module": "@jupyter-widgets/controls",
      "model_module_version": "1.5.0",
      "model_name": "HBoxModel",
      "state": {
       "children": [
        "IPY_MODEL_37b77449ab1b4e7d88fe239e690121bd"
       ],
       "layout": "IPY_MODEL_7ab663a7c45a4adcbe958ffff2439cc9"
      }
     },
     "f00aeb38150244a7a8d0ef080f821975": {
      "model_module": "@jupyter-widgets/controls",
      "model_module_version": "1.5.0",
      "model_name": "FloatSliderModel",
      "state": {
       "description": "$\\eta_{p,comp1}$",
       "layout": "IPY_MODEL_0ea9db3a279646cfb7b731b15710220b",
       "max": 1,
       "min": 0.01,
       "step": 0.01,
       "style": "IPY_MODEL_0e02f8b909774b0e9a86bdd878948657",
       "value": 1
      }
     },
     "f3956a9988b544e2b1f2a093bd97bcf5": {
      "model_module": "@jupyter-widgets/controls",
      "model_module_version": "1.5.0",
      "model_name": "HBoxModel",
      "state": {
       "children": [
        "IPY_MODEL_d7b41df621f1491d9e96a3f9227bfe5a",
        "IPY_MODEL_d9537109f7944636891a63e6dae81b5d"
       ],
       "layout": "IPY_MODEL_d2af5e7d3cc746fc9d7c902583561c82"
      }
     },
     "f6b6219ce9b4464fac66e5798ddc68db": {
      "model_module": "@jupyter-widgets/controls",
      "model_module_version": "1.5.0",
      "model_name": "HBoxModel",
      "state": {
       "children": [
        "IPY_MODEL_02566b07f62d42179fbdf00e0fbeeda4",
        "IPY_MODEL_0cc20a0025484afb8f59556424b252e1",
        "IPY_MODEL_b8d536f8af79416f929e6775637566cb",
        "IPY_MODEL_d07da70644bd4c88b02b6ede748807fe"
       ],
       "layout": "IPY_MODEL_96909957cb65492b96625fce68e1f0c4"
      }
     },
     "f731ae5d86944d758417b880fe94b1db": {
      "model_module": "@jupyter-widgets/controls",
      "model_module_version": "1.5.0",
      "model_name": "TextModel",
      "state": {
       "description": "$\\color{blue} {w_{s} =}$",
       "disabled": true,
       "layout": "IPY_MODEL_0a01fe39ba3c48718d2b47ebdd29f8f0",
       "style": "IPY_MODEL_69176f5d7d3c45f2a12c01d717b66b15",
       "value": "1.43"
      }
     },
     "fa6aa00a2174415cb64ab133ac42edee": {
      "model_module": "@jupyter-widgets/base",
      "model_module_version": "1.2.0",
      "model_name": "LayoutModel",
      "state": {}
     },
     "faee1d56dfed4d29a946293f8e2e396f": {
      "model_module": "@jupyter-widgets/base",
      "model_module_version": "1.2.0",
      "model_name": "LayoutModel",
      "state": {}
     },
     "fe92a3aaac804d45ac21672d7f828abd": {
      "model_module": "@jupyter-widgets/base",
      "model_module_version": "1.2.0",
      "model_name": "LayoutModel",
      "state": {}
     },
     "fedd4901215b4a48b89f56fcb0557c20": {
      "model_module": "@jupyter-widgets/base",
      "model_module_version": "1.2.0",
      "model_name": "LayoutModel",
      "state": {}
     }
    },
    "version_major": 2,
    "version_minor": 0
   }
  }
 },
 "nbformat": 4,
 "nbformat_minor": 4
}
